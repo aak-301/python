{
 "cells": [
  {
   "cell_type": "code",
   "execution_count": 13,
   "metadata": {},
   "outputs": [],
   "source": [
    "import numpy as np\n",
    "import matplotlib.pyplot as plt"
   ]
  },
  {
   "cell_type": "markdown",
   "metadata": {},
   "source": [
    "## Creating a array"
   ]
  },
  {
   "cell_type": "code",
   "execution_count": 14,
   "metadata": {},
   "outputs": [
    {
     "name": "stdout",
     "output_type": "stream",
     "text": [
      "[ 0  1  2  3  4  5  6  7  8  9 10 11 12 13 14 15 16 17 18 19 20 21 22 23\n",
      " 24 25 26 27 28 29 30 31 32 33 34 35 36 37 38 39 40 41 42 43 44 45 46 47\n",
      " 48 49 50 51 52 53 54 55 56 57 58 59 60 61 62 63 64 65 66 67 68 69 70 71\n",
      " 72 73 74 75 76 77 78 79 80 81 82 83 84 85 86 87 88 89 90 91 92 93 94 95\n",
      " 96 97 98 99]\n"
     ]
    }
   ],
   "source": [
    "A= np.arange(100)\n",
    "print(A)"
   ]
  },
  {
   "cell_type": "code",
   "execution_count": 15,
   "metadata": {},
   "outputs": [
    {
     "name": "stdout",
     "output_type": "stream",
     "text": [
      "[10 11 12 13 14 15 16 17 18 19]\n"
     ]
    }
   ],
   "source": [
    "A= np.arange(10,20)\n",
    "print(A)"
   ]
  },
  {
   "cell_type": "code",
   "execution_count": 16,
   "metadata": {},
   "outputs": [
    {
     "name": "stdout",
     "output_type": "stream",
     "text": [
      "[0 1 2 3 4 5 6 7 8 9]\n"
     ]
    }
   ],
   "source": [
    "print(np.array(range(10)))"
   ]
  },
  {
   "cell_type": "code",
   "execution_count": 17,
   "metadata": {},
   "outputs": [
    {
     "name": "stdout",
     "output_type": "stream",
     "text": [
      "[4 2 6 8 0 1 7 3 5 9]\n"
     ]
    }
   ],
   "source": [
    "#This gives array in shuffeled manner\n",
    "A = np.random.permutation(np.arange(10)) \n",
    "print(A)"
   ]
  },
  {
   "cell_type": "markdown",
   "metadata": {},
   "source": [
    "### Return a random integer b/w low and high"
   ]
  },
  {
   "cell_type": "code",
   "execution_count": 18,
   "metadata": {},
   "outputs": [
    {
     "name": "stdout",
     "output_type": "stream",
     "text": [
      "16\n"
     ]
    }
   ],
   "source": [
    "\n",
    "v=np.random.randint(low=10,high=20)\n",
    "print(v)\n",
    "# print(type(v))"
   ]
  },
  {
   "cell_type": "markdown",
   "metadata": {},
   "source": [
    "### Reshaping one array to another(changing dimension)"
   ]
  },
  {
   "cell_type": "code",
   "execution_count": 19,
   "metadata": {},
   "outputs": [
    {
     "name": "stdout",
     "output_type": "stream",
     "text": [
      "A:\n",
      " [0 1 2 3 4 5 6 7 8 9] \n",
      "\n",
      "B:\n",
      " [[0 1 2 3 4]\n",
      " [5 6 7 8 9]]\n"
     ]
    }
   ],
   "source": [
    "A= np.arange(10)\n",
    "B = A.reshape(2,5)\n",
    "print(\"A:\\n\",A,\"\\n\\nB:\\n\",B)"
   ]
  },
  {
   "cell_type": "markdown",
   "metadata": {},
   "source": [
    "### Plotting a histogram"
   ]
  },
  {
   "cell_type": "code",
   "execution_count": 20,
   "metadata": {},
   "outputs": [
    {
     "data": {
      "text/plain": [
       "(array([13., 11.,  8.,  7.,  9., 14., 12., 12.,  9., 13., 12.,  9.,  7.,\n",
       "        10.,  6.,  9., 11.,  8., 10.,  8.,  5.,  9.,  9., 10., 11.,  7.,\n",
       "         4., 11.,  6.,  5., 12., 16., 11., 10., 11., 10., 15., 14., 15.,\n",
       "        18.,  7., 12., 10.,  4.,  9.,  8.,  9., 10.,  7., 16.,  5.,  2.,\n",
       "        13., 15., 16., 11., 11.,  8.,  9., 12., 11., 14.,  5.,  9., 12.,\n",
       "         6., 11.,  6., 11., 10.,  8., 12., 10., 10., 10.,  6.,  6., 12.,\n",
       "        10., 13.,  5., 11., 14., 12.,  9.,  6., 16.,  9.,  8.,  9.,  9.,\n",
       "        16., 12.,  6.,  8.,  9., 13., 10.,  9., 16.]),\n",
       " array([1.90338195e-04, 9.98666576e-02, 1.99542977e-01, 2.99219296e-01,\n",
       "        3.98895616e-01, 4.98571935e-01, 5.98248255e-01, 6.97924574e-01,\n",
       "        7.97600894e-01, 8.97277213e-01, 9.96953533e-01, 1.09662985e+00,\n",
       "        1.19630617e+00, 1.29598249e+00, 1.39565881e+00, 1.49533513e+00,\n",
       "        1.59501145e+00, 1.69468777e+00, 1.79436409e+00, 1.89404041e+00,\n",
       "        1.99371673e+00, 2.09339305e+00, 2.19306937e+00, 2.29274569e+00,\n",
       "        2.39242200e+00, 2.49209832e+00, 2.59177464e+00, 2.69145096e+00,\n",
       "        2.79112728e+00, 2.89080360e+00, 2.99047992e+00, 3.09015624e+00,\n",
       "        3.18983256e+00, 3.28950888e+00, 3.38918520e+00, 3.48886152e+00,\n",
       "        3.58853784e+00, 3.68821416e+00, 3.78789048e+00, 3.88756680e+00,\n",
       "        3.98724312e+00, 4.08691943e+00, 4.18659575e+00, 4.28627207e+00,\n",
       "        4.38594839e+00, 4.48562471e+00, 4.58530103e+00, 4.68497735e+00,\n",
       "        4.78465367e+00, 4.88432999e+00, 4.98400631e+00, 5.08368263e+00,\n",
       "        5.18335895e+00, 5.28303527e+00, 5.38271159e+00, 5.48238791e+00,\n",
       "        5.58206423e+00, 5.68174055e+00, 5.78141687e+00, 5.88109318e+00,\n",
       "        5.98076950e+00, 6.08044582e+00, 6.18012214e+00, 6.27979846e+00,\n",
       "        6.37947478e+00, 6.47915110e+00, 6.57882742e+00, 6.67850374e+00,\n",
       "        6.77818006e+00, 6.87785638e+00, 6.97753270e+00, 7.07720902e+00,\n",
       "        7.17688534e+00, 7.27656166e+00, 7.37623798e+00, 7.47591430e+00,\n",
       "        7.57559061e+00, 7.67526693e+00, 7.77494325e+00, 7.87461957e+00,\n",
       "        7.97429589e+00, 8.07397221e+00, 8.17364853e+00, 8.27332485e+00,\n",
       "        8.37300117e+00, 8.47267749e+00, 8.57235381e+00, 8.67203013e+00,\n",
       "        8.77170645e+00, 8.87138277e+00, 8.97105909e+00, 9.07073541e+00,\n",
       "        9.17041173e+00, 9.27008805e+00, 9.36976436e+00, 9.46944068e+00,\n",
       "        9.56911700e+00, 9.66879332e+00, 9.76846964e+00, 9.86814596e+00,\n",
       "        9.96782228e+00]),\n",
       " <BarContainer object of 100 artists>)"
      ]
     },
     "execution_count": 20,
     "metadata": {},
     "output_type": "execute_result"
    },
    {
     "data": {
      "image/png": "[encoded data removed]",
      "text/plain": [
       "<Figure size 640x480 with 1 Axes>"
      ]
     },
     "metadata": {},
     "output_type": "display_data"
    }
   ],
   "source": [
    "A = np.random.rand(1000)*10\n",
    "plt.hist(A,bins=100)"
   ]
  },
  {
   "cell_type": "code",
   "execution_count": 21,
   "metadata": {},
   "outputs": [
    {
     "data": {
      "text/plain": [
       "(array([  1.,   0.,   0.,   0.,   0.,   0.,   0.,   0.,   0.,   0.,   0.,\n",
       "          0.,   0.,   0.,   0.,   0.,   0.,   0.,   0.,   0.,   1.,   1.,\n",
       "          0.,   0.,   0.,   1.,   0.,   0.,   1.,   1.,   2.,   2.,   2.,\n",
       "          0.,   3.,   0.,   2.,   2.,   0.,   3.,   2.,   6.,   2.,   2.,\n",
       "          4.,   2.,   6.,   4.,   6.,   9.,  12.,   9.,  10.,   8.,   8.,\n",
       "          7.,   6.,  14.,  12.,  18.,  24.,  20.,  32.,  15.,  32.,  36.,\n",
       "         45.,  35.,  44.,  38.,  39.,  46.,  43.,  54.,  50.,  64.,  82.,\n",
       "         68.,  83.,  87.,  95.,  89.,  93., 101.,  85., 125., 112., 115.,\n",
       "        139., 146., 158., 156., 164., 166., 177., 173., 195., 218., 188.,\n",
       "        227., 228., 221., 234., 244., 298., 267., 250., 284., 274., 330.,\n",
       "        309., 328., 319., 294., 339., 355., 317., 390., 399., 357., 381.,\n",
       "        385., 386., 358., 445., 452., 398., 402., 434., 401., 433., 422.,\n",
       "        429., 415., 416., 374., 382., 433., 423., 403., 428., 372., 392.,\n",
       "        359., 357., 367., 362., 328., 328., 324., 341., 339., 314., 307.,\n",
       "        293., 313., 271., 257., 250., 281., 251., 280., 240., 221., 212.,\n",
       "        234., 197., 188., 215., 181., 184., 176., 158., 139., 135., 148.,\n",
       "        147., 114., 117., 113., 102., 102., 101.,  89.,  82.,  67.,  89.,\n",
       "         69.,  71.,  61.,  52.,  49.,  45.,  44.,  42.,  47.,  37.,  37.,\n",
       "         20.,  22.,  30.,  29.,  19.,  21.,  11.,  18.,  17.,  13.,  10.,\n",
       "         15.,   7.,   8.,  11.,   8.,   9.,  16.,   6.,   8.,   9.,   3.,\n",
       "          4.,   1.,   0.,   2.,   4.,   5.,   2.,   3.,   2.,   0.,   1.,\n",
       "          0.,   1.,   1.,   2.,   2.,   0.,   0.,   2.,   0.,   0.,   0.,\n",
       "          0.,   1.,   0.,   0.,   0.,   0.,   0.,   1.]),\n",
       " array([-4.52816998, -4.49393574, -4.45970151, -4.42546727, -4.39123303,\n",
       "        -4.35699879, -4.32276455, -4.28853032, -4.25429608, -4.22006184,\n",
       "        -4.1858276 , -4.15159337, -4.11735913, -4.08312489, -4.04889065,\n",
       "        -4.01465641, -3.98042218, -3.94618794, -3.9119537 , -3.87771946,\n",
       "        -3.84348522, -3.80925099, -3.77501675, -3.74078251, -3.70654827,\n",
       "        -3.67231404, -3.6380798 , -3.60384556, -3.56961132, -3.53537708,\n",
       "        -3.50114285, -3.46690861, -3.43267437, -3.39844013, -3.3642059 ,\n",
       "        -3.32997166, -3.29573742, -3.26150318, -3.22726894, -3.19303471,\n",
       "        -3.15880047, -3.12456623, -3.09033199, -3.05609775, -3.02186352,\n",
       "        -2.98762928, -2.95339504, -2.9191608 , -2.88492657, -2.85069233,\n",
       "        -2.81645809, -2.78222385, -2.74798961, -2.71375538, -2.67952114,\n",
       "        -2.6452869 , -2.61105266, -2.57681842, -2.54258419, -2.50834995,\n",
       "        -2.47411571, -2.43988147, -2.40564724, -2.371413  , -2.33717876,\n",
       "        -2.30294452, -2.26871028, -2.23447605, -2.20024181, -2.16600757,\n",
       "        -2.13177333, -2.09753909, -2.06330486, -2.02907062, -1.99483638,\n",
       "        -1.96060214, -1.92636791, -1.89213367, -1.85789943, -1.82366519,\n",
       "        -1.78943095, -1.75519672, -1.72096248, -1.68672824, -1.652494  ,\n",
       "        -1.61825976, -1.58402553, -1.54979129, -1.51555705, -1.48132281,\n",
       "        -1.44708858, -1.41285434, -1.3786201 , -1.34438586, -1.31015162,\n",
       "        -1.27591739, -1.24168315, -1.20744891, -1.17321467, -1.13898044,\n",
       "        -1.1047462 , -1.07051196, -1.03627772, -1.00204348, -0.96780925,\n",
       "        -0.93357501, -0.89934077, -0.86510653, -0.83087229, -0.79663806,\n",
       "        -0.76240382, -0.72816958, -0.69393534, -0.65970111, -0.62546687,\n",
       "        -0.59123263, -0.55699839, -0.52276415, -0.48852992, -0.45429568,\n",
       "        -0.42006144, -0.3858272 , -0.35159296, -0.31735873, -0.28312449,\n",
       "        -0.24889025, -0.21465601, -0.18042178, -0.14618754, -0.1119533 ,\n",
       "        -0.07771906, -0.04348482, -0.00925059,  0.02498365,  0.05921789,\n",
       "         0.09345213,  0.12768637,  0.1619206 ,  0.19615484,  0.23038908,\n",
       "         0.26462332,  0.29885755,  0.33309179,  0.36732603,  0.40156027,\n",
       "         0.43579451,  0.47002874,  0.50426298,  0.53849722,  0.57273146,\n",
       "         0.60696569,  0.64119993,  0.67543417,  0.70966841,  0.74390265,\n",
       "         0.77813688,  0.81237112,  0.84660536,  0.8808396 ,  0.91507384,\n",
       "         0.94930807,  0.98354231,  1.01777655,  1.05201079,  1.08624502,\n",
       "         1.12047926,  1.1547135 ,  1.18894774,  1.22318198,  1.25741621,\n",
       "         1.29165045,  1.32588469,  1.36011893,  1.39435317,  1.4285874 ,\n",
       "         1.46282164,  1.49705588,  1.53129012,  1.56552435,  1.59975859,\n",
       "         1.63399283,  1.66822707,  1.70246131,  1.73669554,  1.77092978,\n",
       "         1.80516402,  1.83939826,  1.8736325 ,  1.90786673,  1.94210097,\n",
       "         1.97633521,  2.01056945,  2.04480368,  2.07903792,  2.11327216,\n",
       "         2.1475064 ,  2.18174064,  2.21597487,  2.25020911,  2.28444335,\n",
       "         2.31867759,  2.35291183,  2.38714606,  2.4213803 ,  2.45561454,\n",
       "         2.48984878,  2.52408301,  2.55831725,  2.59255149,  2.62678573,\n",
       "         2.66101997,  2.6952542 ,  2.72948844,  2.76372268,  2.79795692,\n",
       "         2.83219115,  2.86642539,  2.90065963,  2.93489387,  2.96912811,\n",
       "         3.00336234,  3.03759658,  3.07183082,  3.10606506,  3.1402993 ,\n",
       "         3.17453353,  3.20876777,  3.24300201,  3.27723625,  3.31147048,\n",
       "         3.34570472,  3.37993896,  3.4141732 ,  3.44840744,  3.48264167,\n",
       "         3.51687591,  3.55111015,  3.58534439,  3.61957863,  3.65381286,\n",
       "         3.6880471 ,  3.72228134,  3.75651558,  3.79074981,  3.82498405,\n",
       "         3.85921829,  3.89345253,  3.92768677,  3.961921  ,  3.99615524,\n",
       "         4.03038948]),\n",
       " <BarContainer object of 250 artists>)"
      ]
     },
     "execution_count": 21,
     "metadata": {},
     "output_type": "execute_result"
    },
    {
     "data": {
      "image/png": "[encoded data removed]",
      "text/plain": [
       "<Figure size 640x480 with 1 Axes>"
      ]
     },
     "metadata": {},
     "output_type": "display_data"
    }
   ],
   "source": [
    "B=np.random.randn(30000)\n",
    "plt.hist(B,bins=250)"
   ]
  },
  {
   "cell_type": "code",
   "execution_count": 22,
   "metadata": {},
   "outputs": [
    {
     "data": {
      "text/plain": [
       "array([[0.3664771 , 0.71080449, 0.8568622 ],\n",
       "       [0.11503831, 0.2254982 , 0.89525423]])"
      ]
     },
     "execution_count": 22,
     "metadata": {},
     "output_type": "execute_result"
    }
   ],
   "source": [
    "C = np.random.rand(2,3)\n",
    "C"
   ]
  },
  {
   "cell_type": "code",
   "execution_count": 23,
   "metadata": {},
   "outputs": [
    {
     "data": {
      "text/plain": [
       "2"
      ]
     },
     "execution_count": 23,
     "metadata": {},
     "output_type": "execute_result"
    }
   ],
   "source": [
    "C.ndim"
   ]
  },
  {
   "cell_type": "code",
   "execution_count": 24,
   "metadata": {},
   "outputs": [
    {
     "data": {
      "text/plain": [
       "4"
      ]
     },
     "execution_count": 24,
     "metadata": {},
     "output_type": "execute_result"
    }
   ],
   "source": [
    "C = np.random.rand(2,3,4,2)\n",
    "C.ndim"
   ]
  },
  {
   "cell_type": "code",
   "execution_count": 25,
   "metadata": {},
   "outputs": [
    {
     "data": {
      "text/plain": [
       "array([[4., 7., 0., 4.],\n",
       "       [1., 6., 0., 6.],\n",
       "       [1., 1., 6., 2.],\n",
       "       [8., 6., 0., 1.],\n",
       "       [6., 7., 4., 5.]])"
      ]
     },
     "execution_count": 25,
     "metadata": {},
     "output_type": "execute_result"
    }
   ],
   "source": [
    "A=np.round(10*np.random.rand(5,4))\n",
    "A"
   ]
  },
  {
   "cell_type": "code",
   "execution_count": 26,
   "metadata": {},
   "outputs": [
    {
     "data": {
      "text/plain": [
       "array([1., 6., 0., 6.])"
      ]
     },
     "execution_count": 26,
     "metadata": {},
     "output_type": "execute_result"
    }
   ],
   "source": [
    "A[1,:]"
   ]
  },
  {
   "cell_type": "code",
   "execution_count": 27,
   "metadata": {},
   "outputs": [],
   "source": [
    "import numpy.linalg as la"
   ]
  },
  {
   "cell_type": "code",
   "execution_count": 28,
   "metadata": {},
   "outputs": [
    {
     "data": {
      "text/plain": [
       "array([[ -81.66871183,  104.33707227,   10.48142635],\n",
       "       [ 341.32293312, -428.0971872 ,  -48.37291344],\n",
       "       [-200.12244088,  250.09630878,   30.14044501]])"
      ]
     },
     "execution_count": 28,
     "metadata": {},
     "output_type": "execute_result"
    }
   ],
   "source": [
    "la.inv(np.random.rand(3,3))"
   ]
  },
  {
   "cell_type": "code",
   "execution_count": 31,
   "metadata": {},
   "outputs": [
    {
     "data": {
      "text/plain": [
       "array([[1., 1., 0., 1.],\n",
       "       [1., 6., 0., 2.],\n",
       "       [4., 6., 0., 4.],\n",
       "       [6., 7., 4., 5.],\n",
       "       [8., 7., 6., 6.]])"
      ]
     },
     "execution_count": 31,
     "metadata": {},
     "output_type": "execute_result"
    }
   ],
   "source": [
    "A.sort(axis=0) #Sort columns individually\n",
    "A"
   ]
  },
  {
   "cell_type": "code",
   "execution_count": 32,
   "metadata": {},
   "outputs": [
    {
     "data": {
      "text/plain": [
       "array([[0., 1., 1., 1.],\n",
       "       [0., 1., 2., 6.],\n",
       "       [0., 4., 4., 6.],\n",
       "       [4., 5., 6., 7.],\n",
       "       [6., 6., 7., 8.]])"
      ]
     },
     "execution_count": 32,
     "metadata": {},
     "output_type": "execute_result"
    }
   ],
   "source": [
    "A.sort(axis=1)\n",
    "A"
   ]
  },
  {
   "cell_type": "code",
   "execution_count": null,
   "metadata": {},
   "outputs": [],
   "source": []
  }
 ],
 "metadata": {
  "kernelspec": {
   "display_name": "Python 3",
   "language": "python",
   "name": "python3"
  },
  "language_info": {
   "codemirror_mode": {
    "name": "ipython",
    "version": 3
   },
   "file_extension": ".py",
   "mimetype": "text/x-python",
   "name": "python",
   "nbconvert_exporter": "python",
   "pygments_lexer": "ipython3",
   "version": "3.9.13"
  }
 },
 "nbformat": 4,
 "nbformat_minor": 2
}
