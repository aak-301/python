{
 "cells": [
  {
   "cell_type": "code",
   "execution_count": 25,
   "metadata": {},
   "outputs": [
    {
     "name": "stdout",
     "output_type": "stream",
     "text": [
      "John\n",
      "The user name is John\n",
      "Account Name: Saving, Balance: 1000\n"
     ]
    }
   ],
   "source": [
    "class A:\n",
    "    def __init__(self, name):\n",
    "        self.name = name\n",
    "        print(f\"{self.name}\")\n",
    "\n",
    "    def print_details(self):\n",
    "        print(f\"The user name is {self.name}\")\n",
    "\n",
    "\n",
    "class B(A):\n",
    "    def __init__(self, user_name, account_name, balance):\n",
    "        super().__init__(user_name)\n",
    "        self.account_name = account_name\n",
    "        self.balance = balance\n",
    "    \n",
    "    def print_details(self):\n",
    "        super().print_details()\n",
    "        print(f\"Account Name: {self.account_name}, Balance: {self.balance}\")\n",
    "        \n",
    "bank = B(\"John\", \"Saving\", 1000)\n",
    "bank.print_details()"
   ]
  },
  {
   "cell_type": "code",
   "execution_count": 57,
   "metadata": {},
   "outputs": [
    {
     "name": "stdout",
     "output_type": "stream",
     "text": [
      "Type of Vehicle: Car, \n",
      "Name: Toyota, \n",
      "Color: Red, \n",
      "Max Speed: 200, \n",
      "Does need license: Yes\n",
      "Number of Wheel Drive: 4, \n",
      "Number of Seats: 5\n",
      "\n",
      "Type of Vehicle: Cycle, \n",
      "Name: Hero, \n",
      "Color: Black, \n",
      "Max Speed: 50, \n",
      "Does need license: No\n",
      "Number of Wheel Drive: 2\n",
      "\n"
     ]
    }
   ],
   "source": [
    "\n",
    "class Vehicle:\n",
    "    def __init__(self, type, name, color, max_speed, does_need_license):\n",
    "        self.type = type\n",
    "        self.name = name\n",
    "        self.color = color\n",
    "        self.max_speed = max_speed\n",
    "        self.does_need_license = does_need_license\n",
    "\n",
    "    def print_basic_details(self):\n",
    "        print(\n",
    "            f\"Type of Vehicle: {self.type}, \\nName: {self.name}, \\nColor: {self.color}, \\nMax Speed: {self.max_speed}, \\nDoes need license: {'Yes' if self.does_need_license else 'No'}\"\n",
    "        )\n",
    "\n",
    "\n",
    "class Car(Vehicle):\n",
    "    def __init__(\n",
    "        self,\n",
    "        type,\n",
    "        name,\n",
    "        color,\n",
    "        max_speed,\n",
    "        number_of_wheel_drive,\n",
    "        number_of_seats,\n",
    "        does_need_license,\n",
    "    ):\n",
    "        super().__init__(type, name, color, max_speed, does_need_license)\n",
    "        self.number_of_wheel_drive = number_of_wheel_drive\n",
    "        self.number_of_seats = number_of_seats\n",
    "\n",
    "    def print_details(self):\n",
    "        super().print_basic_details()\n",
    "        print(\n",
    "            f\"Number of Wheel Drive: {self.number_of_wheel_drive}, \\nNumber of Seats: {self.number_of_seats}\\n\"\n",
    "        )\n",
    "\n",
    "\n",
    "class Cycle(Vehicle):\n",
    "    def __init__(self, type, name, color, max_speed, number_of_wheel_drive, does_need_license):\n",
    "        super().__init__(type, name, color, max_speed, does_need_license)\n",
    "        self.number_of_wheel_drive = number_of_wheel_drive\n",
    "        \n",
    "    def print_details(self):\n",
    "        super().print_basic_details()\n",
    "        print(f\"Number of Wheel Drive: {self.number_of_wheel_drive}\\n\")\n",
    "\n",
    "c = Car(\"Car\", \"Toyota\", \"Red\", 200, 4, 5, True)\n",
    "c.print_details()\n",
    "b = Cycle(\"Cycle\", \"Hero\", \"Black\", 50, 2, False)\n",
    "b.print_details()"
   ]
  },
  {
   "cell_type": "code",
   "execution_count": 67,
   "metadata": {},
   "outputs": [
    {
     "name": "stdout",
     "output_type": "stream",
     "text": [
      "Outer class name\n",
      "Inner class name\n",
      "Inner most class name\n"
     ]
    }
   ],
   "source": [
    "class Outer:\n",
    "    def __init__(self):\n",
    "        print(f\"Outer class name\")\n",
    "    \n",
    "    class Inner:\n",
    "        def __init__(self):\n",
    "            print(f\"Inner class name\")\n",
    "        \n",
    "        class InnerMost:\n",
    "            def __init__(self):\n",
    "                print(f\"Inner most class name\")\n",
    "\n",
    "o = Outer()\n",
    "i= o.Inner()\n",
    "ii=o.Inner.InnerMost()"
   ]
  },
  {
   "cell_type": "code",
   "execution_count": 88,
   "metadata": {},
   "outputs": [
    {
     "name": "stdout",
     "output_type": "stream",
     "text": [
      "In Class3\n",
      "In Class1\n"
     ]
    }
   ],
   "source": [
    "# Python Program to depict multiple inheritance\n",
    "# when method is overridden in one of the classes\n",
    "\n",
    "class Class1:\n",
    "\tdef m(self):\n",
    "\t\tprint(\"In Class1\") \n",
    "\t\n",
    "class Class2(Class1):\n",
    "    def m(self):\n",
    "        print(\"In Class2\")\n",
    "\n",
    "class Class3(Class1):\n",
    "\tdef m(self):\n",
    "\t\tprint(\"In Class3\")\n",
    "\t\tClass1.m(self)\n",
    "\t\n",
    "class Class4(Class3, Class2):\n",
    "\tpass    \n",
    "\n",
    "obj = Class4()\n",
    "obj.m()\n"
   ]
  },
  {
   "cell_type": "code",
   "execution_count": 111,
   "metadata": {},
   "outputs": [
    {
     "name": "stdout",
     "output_type": "stream",
     "text": [
      "John, 20, Male\n",
      "In B\n"
     ]
    }
   ],
   "source": [
    "class A:\n",
    "    def m(self):\n",
    "        print(\"In A\")\n",
    "\n",
    "    def setDetails(self):\n",
    "        self.name = \"John\"\n",
    "\n",
    "\n",
    "class B(A):\n",
    "    def m(self):\n",
    "        print(\"In B\")\n",
    "\n",
    "    def setDetails(self):\n",
    "        self.age = 20\n",
    "\n",
    "\n",
    "class C(A):\n",
    "    def m(self):\n",
    "        print(\"In C\")\n",
    "\n",
    "    def setDetails(self):\n",
    "        self.gender = \"Male\"\n",
    "\n",
    "\n",
    "class D(B, C):\n",
    "    def __init__(self):\n",
    "        # Explicitly call setDetails() of each parent class\n",
    "        A.setDetails(self)\n",
    "        B.setDetails(self)\n",
    "        C.setDetails(self)\n",
    "        \n",
    "        # Print details\n",
    "        print(f\"{self.name}, {self.age}, {self.gender}\")\n",
    "\n",
    "obj = D()\n",
    "obj.m()"
   ]
  },
  {
   "cell_type": "code",
   "execution_count": 6,
   "metadata": {},
   "outputs": [],
   "source": []
  },
  {
   "cell_type": "code",
   "execution_count": 7,
   "metadata": {},
   "outputs": [
    {
     "data": {
      "text/plain": [
       "(1, 10)"
      ]
     },
     "execution_count": 7,
     "metadata": {},
     "output_type": "execute_result"
    }
   ],
   "source": []
  },
  {
   "cell_type": "code",
   "execution_count": null,
   "metadata": {},
   "outputs": [],
   "source": []
  }
 ],
 "metadata": {
  "kernelspec": {
   "display_name": "Python 3",
   "language": "python",
   "name": "python3"
  },
  "language_info": {
   "codemirror_mode": {
    "name": "ipython",
    "version": 3
   },
   "file_extension": ".py",
   "mimetype": "text/x-python",
   "name": "python",
   "nbconvert_exporter": "python",
   "pygments_lexer": "ipython3",
   "version": "3.12.5"
  }
 },
 "nbformat": 4,
 "nbformat_minor": 2
}
